{
 "cells": [
  {
   "cell_type": "markdown",
   "metadata": {},
   "source": []
  },
  {
   "cell_type": "markdown",
   "metadata": {},
   "source": [
    " Cauchy\n",
    "$\\pi(\\mathbf{x}) = \\frac{1}{(\\pi\\gamma)^n \\left( 1+\\left( \\frac{\\mathbf{D}(\\mathbf{x}-\\mathbf{x}_0)}{\\gamma} \\right)^2 \\right) }$"
   ]
  },
  {
   "cell_type": "markdown",
   "metadata": {},
   "source": [
    "Laplace\n",
    "$\\pi(\\mathbf{x}) = \\frac{1}{(2b)^n}  \\exp \\left(- \\frac{\\|\\mathbf{D}(\\mathbf{x}-\\mathbf{x}_0) \\|_1 }{b} \\right)$"
   ]
  }
 ],
 "metadata": {
  "language_info": {
   "name": "python"
  },
  "orig_nbformat": 4
 },
 "nbformat": 4,
 "nbformat_minor": 2
}
